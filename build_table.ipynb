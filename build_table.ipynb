{
 "cells": [
  {
   "cell_type": "code",
   "execution_count": 15,
   "metadata": {
    "collapsed": true,
    "deletable": true,
    "editable": true
   },
   "outputs": [],
   "source": [
    "#Imports\n",
    "import scipy\n",
    "import pandas as pd\n",
    "import numpy as np\n",
    "import matplotlib\n",
    "import matplotlib.pyplot as plt\n",
    "import re\n",
    "import os"
   ]
  },
  {
   "cell_type": "code",
   "execution_count": 74,
   "metadata": {
    "collapsed": false,
    "deletable": true,
    "editable": true
   },
   "outputs": [
    {
     "name": "stdout",
     "output_type": "stream",
     "text": [
      "Exploration CSV path:\n",
      "D:\\D--Temp\\Porter\\test_explor.csv\n",
      "\n",
      "SPT N-Value CSV path:\n",
      "D:\\D--Temp\\Porter\\test_spt.csv\n",
      "\n",
      "Geological Layers CSV path:\n",
      "D:\\D--Temp\\Porter\\test_layers.csv\n",
      "\n"
     ]
    }
   ],
   "source": [
    "\"\"\"Specify files extension identifiers and parse current directory for csv full paths\"\"\"\n",
    "#File strings [EDITABLE]\n",
    "layers_ext = \"layer\"\n",
    "spt_ext = \"spt\"\n",
    "explor_ext = \"explor\"\n",
    "\n",
    "#build paths\n",
    "dir_path = os.getcwd()\n",
    "file_paths = []\n",
    "for f in os.listdir(dir_path):\n",
    "    if f.endswith(\".csv\"):\n",
    "        file_paths.append(os.path.join(dir_path, f))\n",
    "\n",
    "#parse paths\n",
    "spt_path = [s for s in file_paths if spt_ext in s][0]\n",
    "lyr_path = [s for s in file_paths if layers_ext in s][0]\n",
    "explor_path = [s for s in file_paths if explor_ext in s][0]\n",
    "\n",
    "print(\"Exploration CSV path:\\n{}\\n\".format(explor_path))\n",
    "print(\"SPT N-Value CSV path:\\n{}\\n\".format(spt_path))\n",
    "print(\"Geological Layers CSV path:\\n{}\\n\".format(lyr_path))"
   ]
  },
  {
   "cell_type": "code",
   "execution_count": 75,
   "metadata": {
    "collapsed": false,
    "deletable": true,
    "editable": true
   },
   "outputs": [
    {
     "data": {
      "text/html": [
       "<div style=\"max-height:1000px;max-width:1500px;overflow:auto;\">\n",
       "<table border=\"1\" class=\"dataframe\">\n",
       "  <thead>\n",
       "    <tr style=\"text-align: right;\">\n",
       "      <th></th>\n",
       "      <th>OBJECT_ID</th>\n",
       "      <th>EXPLOR_ID</th>\n",
       "      <th>DEPTH</th>\n",
       "      <th>N_VAL</th>\n",
       "      <th>CORR_N</th>\n",
       "    </tr>\n",
       "  </thead>\n",
       "  <tbody>\n",
       "    <tr>\n",
       "      <th>0 </th>\n",
       "      <td>  1</td>\n",
       "      <td> 1</td>\n",
       "      <td>  0</td>\n",
       "      <td> 12</td>\n",
       "      <td>NaN</td>\n",
       "    </tr>\n",
       "    <tr>\n",
       "      <th>1 </th>\n",
       "      <td>  2</td>\n",
       "      <td> 1</td>\n",
       "      <td>  1</td>\n",
       "      <td> 10</td>\n",
       "      <td>NaN</td>\n",
       "    </tr>\n",
       "    <tr>\n",
       "      <th>2 </th>\n",
       "      <td>  3</td>\n",
       "      <td> 1</td>\n",
       "      <td>  4</td>\n",
       "      <td> 26</td>\n",
       "      <td>NaN</td>\n",
       "    </tr>\n",
       "    <tr>\n",
       "      <th>3 </th>\n",
       "      <td>  4</td>\n",
       "      <td> 1</td>\n",
       "      <td>  7</td>\n",
       "      <td> 55</td>\n",
       "      <td>NaN</td>\n",
       "    </tr>\n",
       "    <tr>\n",
       "      <th>4 </th>\n",
       "      <td>  5</td>\n",
       "      <td> 1</td>\n",
       "      <td>  8</td>\n",
       "      <td> 45</td>\n",
       "      <td>NaN</td>\n",
       "    </tr>\n",
       "    <tr>\n",
       "      <th>5 </th>\n",
       "      <td>  6</td>\n",
       "      <td> 1</td>\n",
       "      <td> 11</td>\n",
       "      <td> 60</td>\n",
       "      <td>NaN</td>\n",
       "    </tr>\n",
       "    <tr>\n",
       "      <th>6 </th>\n",
       "      <td>  7</td>\n",
       "      <td> 1</td>\n",
       "      <td> 13</td>\n",
       "      <td> 51</td>\n",
       "      <td>NaN</td>\n",
       "    </tr>\n",
       "    <tr>\n",
       "      <th>7 </th>\n",
       "      <td>  8</td>\n",
       "      <td> 2</td>\n",
       "      <td>  0</td>\n",
       "      <td>  8</td>\n",
       "      <td>NaN</td>\n",
       "    </tr>\n",
       "    <tr>\n",
       "      <th>8 </th>\n",
       "      <td>  9</td>\n",
       "      <td> 2</td>\n",
       "      <td>  2</td>\n",
       "      <td> 30</td>\n",
       "      <td>NaN</td>\n",
       "    </tr>\n",
       "    <tr>\n",
       "      <th>9 </th>\n",
       "      <td> 10</td>\n",
       "      <td> 2</td>\n",
       "      <td>  5</td>\n",
       "      <td> 45</td>\n",
       "      <td>NaN</td>\n",
       "    </tr>\n",
       "    <tr>\n",
       "      <th>10</th>\n",
       "      <td> 11</td>\n",
       "      <td> 2</td>\n",
       "      <td> 10</td>\n",
       "      <td> 52</td>\n",
       "      <td>NaN</td>\n",
       "    </tr>\n",
       "  </tbody>\n",
       "</table>\n",
       "</div>"
      ],
      "text/plain": [
       "    OBJECT_ID  EXPLOR_ID  DEPTH  N_VAL  CORR_N\n",
       "0           1          1      0     12     NaN\n",
       "1           2          1      1     10     NaN\n",
       "2           3          1      4     26     NaN\n",
       "3           4          1      7     55     NaN\n",
       "4           5          1      8     45     NaN\n",
       "5           6          1     11     60     NaN\n",
       "6           7          1     13     51     NaN\n",
       "7           8          2      0      8     NaN\n",
       "8           9          2      2     30     NaN\n",
       "9          10          2      5     45     NaN\n",
       "10         11          2     10     52     NaN"
      ]
     },
     "execution_count": 75,
     "metadata": {},
     "output_type": "execute_result"
    }
   ],
   "source": [
    "#Read input csv\n",
    "df = pd.read_csv(spt_path)\n",
    "df"
   ]
  },
  {
   "cell_type": "code",
   "execution_count": null,
   "metadata": {
    "collapsed": true
   },
   "outputs": [],
   "source": []
  }
 ],
 "metadata": {
  "kernelspec": {
   "display_name": "Python 2",
   "language": "python",
   "name": "python2"
  },
  "language_info": {
   "codemirror_mode": {
    "name": "ipython",
    "version": 2
   },
   "file_extension": ".py",
   "mimetype": "text/x-python",
   "name": "python",
   "nbconvert_exporter": "python",
   "pygments_lexer": "ipython2",
   "version": "2.7.6"
  }
 },
 "nbformat": 4,
 "nbformat_minor": 2
}
