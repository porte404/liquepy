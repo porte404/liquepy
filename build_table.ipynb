{
 "cells": [
  {
   "cell_type": "code",
   "execution_count": 212,
   "metadata": {
    "collapsed": true,
    "deletable": true,
    "editable": true
   },
   "outputs": [],
   "source": [
    "#Imports\n",
    "import scipy\n",
    "import pandas as pd\n",
    "import numpy as np\n",
    "import matplotlib\n",
    "import matplotlib.pyplot as plt\n",
    "import re\n",
    "import os\n",
    "import scipy"
   ]
  },
  {
   "cell_type": "code",
   "execution_count": 213,
   "metadata": {
    "collapsed": false,
    "deletable": true,
    "editable": true
   },
   "outputs": [
    {
     "name": "stdout",
     "output_type": "stream",
     "text": [
      "Exploration CSV path:\n",
      "/Users/matthew/liqpy/liquepy/test_explor.csv\n",
      "\n",
      "SPT N-Value CSV path:\n",
      "/Users/matthew/liqpy/liquepy/test_spt.csv\n",
      "\n",
      "Geological Layers CSV path:\n",
      "/Users/matthew/liqpy/liquepy/test_layers.csv\n",
      "\n"
     ]
    }
   ],
   "source": [
    "\"\"\"Specify files extension identifiers and parse current directory for csv full paths\"\"\"\n",
    "#File strings [EDITABLE]\n",
    "layers_ext = \"layer\"\n",
    "spt_ext = \"spt\"\n",
    "explor_ext = \"explor\"\n",
    "\n",
    "#build paths\n",
    "dir_path = os.getcwd()\n",
    "file_paths = []\n",
    "for f in os.listdir(dir_path):\n",
    "    if f.endswith(\".csv\"):\n",
    "        file_paths.append(os.path.join(dir_path, f))\n",
    "\n",
    "#parse paths\n",
    "spt_path = [s for s in file_paths if spt_ext in s][0]\n",
    "lyr_path = [s for s in file_paths if layers_ext in s][0]\n",
    "explor_path = [s for s in file_paths if explor_ext in s][0]\n",
    "\n",
    "print(\"Exploration CSV path:\\n{}\\n\".format(explor_path))\n",
    "print(\"SPT N-Value CSV path:\\n{}\\n\".format(spt_path))\n",
    "print(\"Geological Layers CSV path:\\n{}\\n\".format(lyr_path))"
   ]
  },
  {
   "cell_type": "code",
   "execution_count": 214,
   "metadata": {
    "collapsed": false,
    "deletable": true,
    "editable": true
   },
   "outputs": [],
   "source": [
    "#Read input blowcounts csv\n",
    "df = pd.read_csv(spt_path, index_col=['OBJECT_ID'])\n",
    "\n",
    "\"\"\"Creates list of full tuples from df\"\"\"\n",
    "def slice_dice(df):\n",
    "    data_list = []\n",
    "    for r in df.itertuples():\n",
    "        data_list.append(r)\n",
    "    return data_list\n",
    "\n",
    "nvalue_list = slice_dice(df)\n",
    "\n",
    "\"\"\"Build list of necessary tuples, convert values to floats \n",
    "from two df columns for interpolation\"\"\"\n",
    "def three_tuple(somelist):\n",
    "    #Index\n",
    "    list_1 = []\n",
    "    for itup in somelist:\n",
    "        list_1.append(float(itup[1]))\n",
    "    #X\n",
    "    list_2 = []\n",
    "    for itup in somelist:\n",
    "        list_2.append(float(itup[2]))\n",
    "    #Y\n",
    "    list_3 = []\n",
    "    for itup in somelist:\n",
    "        list_3.append(itup[3])\n",
    "    tuplist = list(zip(list_1, list_2, list_3))\n",
    "    return tuplist\n",
    "\n",
    "def two_tuple(somelist):\n",
    "    \"\"\"X-value\"\"\"\n",
    "    list_1 = []\n",
    "    for itup in somelist:\n",
    "        list_1.append(float(itup[0]))\n",
    "    \"\"\"Y-value\"\"\"\n",
    "    list_2 = []\n",
    "    for itup in somelist:\n",
    "        list_2.append(float(itup[1]))\n",
    "    tuplist = list(zip(list_1, list_2))\n",
    "    return tuplist\n",
    "\n",
    "def unpack_two_tuple(sometuplelist):\n",
    "    \"\"\"X-value\"\"\"\n",
    "    list_1 = []\n",
    "    for itup in sometuplelist:\n",
    "        list_1.append(itup[0])\n",
    "    \"\"\"Y-value\"\"\"\n",
    "    list_2 = []\n",
    "    for itup in sometuplelist:\n",
    "        list_2.append(itup[1])\n",
    "    return list_1, list_2\n",
    "\n",
    "itupdata = three_tuple(nvalue_list)"
   ]
  },
  {
   "cell_type": "code",
   "execution_count": 215,
   "metadata": {
    "collapsed": false
   },
   "outputs": [
    {
     "data": {
      "text/plain": [
       "[(1.0, 0.0, 12),\n",
       " (1.0, 1.0, 10),\n",
       " (1.0, 4.0, 26),\n",
       " (1.0, 7.0, 55),\n",
       " (1.0, 8.0, 45),\n",
       " (1.0, 11.0, 60),\n",
       " (1.0, 13.0, 51),\n",
       " (2.0, 0.0, 8),\n",
       " (2.0, 2.0, 30),\n",
       " (2.0, 5.0, 45),\n",
       " (2.0, 10.0, 52)]"
      ]
     },
     "execution_count": 215,
     "metadata": {},
     "output_type": "execute_result"
    }
   ],
   "source": [
    "\"Group tuples by exploration_id\"\n",
    "import itertools\n",
    "import operator\n",
    "\n",
    "def group_tuples(tuple_list, indexing_tuplenumber):\n",
    "    n_data = [list(group) for key,group in itertools.groupby(tuple_list,operator.itemgetter(indexing_tuplenumber))]\n",
    "    return n_data\n",
    "\n",
    "nvalues_data = group_tuples(itupdata,0)\n",
    "itupdata"
   ]
  },
  {
   "cell_type": "code",
   "execution_count": 216,
   "metadata": {
    "collapsed": false
   },
   "outputs": [],
   "source": [
    "\"\"\"Fill in missing n-values for depths 0 to 30 feet\"\"\"\n",
    "from scipy.interpolate import interp1d\n",
    "\n",
    "\"\"\"Build a list of tuples from interpolation with matching exploration number\"\"\"\n",
    "\"\"\"Note that the tuple is ungrouped afterwards\"\"\"\n",
    "\"\"\"Values outside interpolation bounds will == nan\"\"\"\n",
    "def interpolate_nvalues(nvalues_data):\n",
    "    nvalue_intp = []\n",
    "    sizing = np.arange(0,30,0.5)\n",
    "    for i in range(len(nvalues_data)):\n",
    "        temp_list = list(zip(*nvalues_data[i]))\n",
    "        temp_x = temp_list[1]\n",
    "        temp_y = temp_list[2]\n",
    "        filling = temp_list[0]\n",
    "        nvalue_interpolation = interp1d(temp_x, temp_y, bounds_error=False)\n",
    "        expnum = np.zeros((len(sizing)))\n",
    "        expnum[expnum == 0] = filling[0]\n",
    "        tuppp = list(zip(sizing, nvalue_interpolation(sizing), expnum))\n",
    "        nvalue_intp.extend(tuppp)\n",
    "    return nvalue_intp\n",
    "\n",
    "blowcounts = interpolate_nvalues(nvalues_data)"
   ]
  },
  {
   "cell_type": "code",
   "execution_count": 217,
   "metadata": {
    "collapsed": false
   },
   "outputs": [
    {
     "data": {
      "image/png": "[encoded data removed]",
      "text/plain": [
       "<matplotlib.figure.Figure at 0x111ebecc0>"
      ]
     },
     "metadata": {},
     "output_type": "display_data"
    }
   ],
   "source": [
    "def graph_blowcounts(blowcounts,exploration_number):\n",
    "    temp_list = []\n",
    "    for u in blowcounts:\n",
    "        if u[2] == exploration_number:\n",
    "            temp_list.append(u)\n",
    "    i,j = unpack_two_tuple(temp_list)\n",
    "    plt.plot(i,j,'*b')\n",
    "    plt.title(\"Interpolated blowcounts for exploration: \"+str(exploration_number))\n",
    "    plt.xlabel(\"Depth (ft)\")\n",
    "    plt.ylabel(\"N-Value\")\n",
    "    return plt.show()\n",
    "\n",
    "graph_blowcounts(blowcounts,1)"
   ]
  },
  {
   "cell_type": "code",
   "execution_count": 218,
   "metadata": {
    "collapsed": false
   },
   "outputs": [],
   "source": [
    "#Read input layers csv\n",
    "df2 = pd.read_csv(lyr_path, index_col=['OBJECT_ID'])"
   ]
  },
  {
   "cell_type": "code",
   "execution_count": 219,
   "metadata": {
    "collapsed": false
   },
   "outputs": [],
   "source": [
    "#Alternate way of slicing, still have not flushed out\n",
    "ffg = df2[df2.EXPLOR_ID == 1]\n",
    "ffg = slice_dice(ffg)"
   ]
  },
  {
   "cell_type": "code",
   "execution_count": 259,
   "metadata": {
    "collapsed": false
   },
   "outputs": [],
   "source": [
    "\"\"\"Build list of necessary tuples, convert values to floats \n",
    "from two df columns for interpolation\"\"\"\n",
    "def five_tuple(somelist):\n",
    "    #Index\n",
    "    list_1 = []\n",
    "    for itup in somelist:\n",
    "        list_1.append(float(itup[1]))\n",
    "    #X1\n",
    "    list_2 = []\n",
    "    for itup in somelist:\n",
    "        list_2.append(float(itup[2]))\n",
    "    #X2\n",
    "    list_3 = []\n",
    "    for itup in somelist:\n",
    "        list_3.append(float(itup[3]))\n",
    "    #Y1\n",
    "    list_4 = []\n",
    "    for itup in somelist:\n",
    "        list_4.append(itup[4])\n",
    "    #Y2\n",
    "    list_5 = []\n",
    "    for itup in somelist:\n",
    "        list_5.append(itup[5])\n",
    "    tuplist = list(zip(list_1, list_2, list_3, list_4, list_5))\n",
    "    return tuplist"
   ]
  },
  {
   "cell_type": "code",
   "execution_count": 266,
   "metadata": {
    "collapsed": false
   },
   "outputs": [
    {
     "data": {
      "text/plain": [
       "'SP'"
      ]
     },
     "execution_count": 266,
     "metadata": {},
     "output_type": "execute_result"
    }
   ],
   "source": [
    "df2_slice = slice_dice(df2)\n",
    "lyr_iterdata = five_tuple(df2_slice)\n",
    "lyr_data = group_tuples(lyr_iterdata,0)"
   ]
  },
  {
   "cell_type": "code",
   "execution_count": 222,
   "metadata": {
    "collapsed": false
   },
   "outputs": [
    {
     "name": "stdout",
     "output_type": "stream",
     "text": [
      "{'Qal': 1880.0, 'Qf': 1880.0, 'Ql': 1880.0, 'Qls': 1900.0, 'Qmw': 1900.0, 'Qp': 1880.0, 'Qw': 1880.0, 'Qob': 1880.0, 'Qpf': 2000.0, 'Qpff': 2000.0, 'Qpfn': 2000.0, 'Qpfnc': 2000.0, 'Qpfnf': 2000.0, 'Qpoc': 2000.0, 'Qpog': 2000.0, 'Qpogt': 2000.0, 'Qpon': 2000.0, 'Qponc': 2000.0, 'Qgpc': 1880.0, 'Qcg': 1880.0, 'Qva': 1920.0, 'Qvi': 1880.0, 'Qvlc': 2000.0, 'Qvr': 1880.0, 'Qvrl': 1880.0, 'Qvrlb': 1880.0, 'Qvrlbt': 1880.0, 'Qvrlf': 1880.0, 'Qvrlj': 1880.0, 'Qvel': 1880.0, 'Qvrlr': 1880.0, 'Qvrlt': 1880.0, 'Qvt': 1880.0, 'Qga': 1920.0, 'Qga(t)': 1920.0, 'Qgt': 1880.0, 'Qgo': 1880.0, 'Qgu': 1880.0}\n"
     ]
    }
   ],
   "source": [
    "#Read csv and convert saturated unit density table to dictionary\n",
    "#Convert to float\n",
    "den_df = pd.read_csv('Sat_UnitDensity.csv', index_col='UID')\n",
    "den_df_key = den_df.keys()[0]\n",
    "\n",
    "def pd_to_dict(df, key):\n",
    "    key_names = df.keys() \n",
    "    df = df.to_dict()\n",
    "    df = df[key]\n",
    "    for value in df.keys():\n",
    "        df[value] = float(df[value])\n",
    "    return df\n",
    "\n",
    "den_dict = pd_to_dict(den_df, den_df_key)\n",
    "print(den_dict)"
   ]
  },
  {
   "cell_type": "code",
   "execution_count": 273,
   "metadata": {
    "collapsed": false
   },
   "outputs": [
    {
     "name": "stdout",
     "output_type": "stream",
     "text": [
      "6\n"
     ]
    }
   ],
   "source": [
    "\"\"\"Build a list of tuples from interpolation with matching exploration number\"\"\"\n",
    "\"\"\"Note that the tuple is ungrouped afterwards\"\"\"\n",
    "\"\"\"Values outside interpolation bounds will == nan\"\"\"\n",
    "#get density values\n",
    "#newlist = [den_dict[i[4]] for i in lyr_iterdata]\n",
    "#print(newlist)\n",
    "\n",
    "def fill_lyrs(data, density_list):\n",
    "    master_array = np.empty()\n",
    "    for i in range(len(data)):\n",
    "        expnum = data[i][0]\n",
    "        x1 = data[i][1]\n",
    "        x2 = data[i][2]\n",
    "        uscs = data[i][3]\n",
    "        uid = data[i][4]\n",
    "        dens = density_list[i]\n",
    "        sizing = np.arange(x1,x2,0.5)\n",
    "        str_array = np.chararray((1,len(sizing)))\n",
    "        flt_array = np.zeros(len(sizing))\n",
    "        density = str_array.copy()\n",
    "        density[:] = dens\n",
    "        #expnum = np.zeros((len(sizing)))\n",
    "        #expnum[expnum == 0] = filling[0]\n",
    "        #tuppp = list(zip(sizing, density, expnum))\n",
    "        #lyr_intp.extend(tuppp)\n",
    "    return len(sizing)\n",
    "\n",
    "layers = fill_lyrs(df2_slice, newlist)\n",
    "print(layers)"
   ]
  },
  {
   "cell_type": "code",
   "execution_count": 224,
   "metadata": {
    "collapsed": false
   },
   "outputs": [
    {
     "ename": "ValueError",
     "evalue": "not enough values to unpack (expected 6, got 5)",
     "output_type": "error",
     "traceback": [
      "\u001b[0;31m---------------------------------------------------------------------------\u001b[0m",
      "\u001b[0;31mValueError\u001b[0m                                Traceback (most recent call last)",
      "\u001b[0;32m<ipython-input-224-c05fae10aa0a>\u001b[0m in \u001b[0;36m<module>\u001b[0;34m()\u001b[0m\n\u001b[0;32m----> 1\u001b[0;31m \u001b[0mnew_list\u001b[0m \u001b[0;34m=\u001b[0m \u001b[0;34m[\u001b[0m\u001b[0;34m(\u001b[0m\u001b[0ma\u001b[0m\u001b[0;34m,\u001b[0m\u001b[0mb\u001b[0m\u001b[0;34m,\u001b[0m\u001b[0mc\u001b[0m\u001b[0;34m,\u001b[0m\u001b[0md\u001b[0m\u001b[0;34m,\u001b[0m\u001b[0me\u001b[0m\u001b[0;34m,\u001b[0m\u001b[0mden_dict\u001b[0m\u001b[0;34m[\u001b[0m\u001b[0mf\u001b[0m\u001b[0;34m]\u001b[0m\u001b[0;34m)\u001b[0m \u001b[0;32mfor\u001b[0m \u001b[0;34m(\u001b[0m\u001b[0ma\u001b[0m\u001b[0;34m,\u001b[0m\u001b[0mb\u001b[0m\u001b[0;34m,\u001b[0m\u001b[0mc\u001b[0m\u001b[0;34m,\u001b[0m\u001b[0md\u001b[0m\u001b[0;34m,\u001b[0m\u001b[0me\u001b[0m\u001b[0;34m,\u001b[0m\u001b[0mf\u001b[0m\u001b[0;34m)\u001b[0m \u001b[0;32min\u001b[0m \u001b[0mlyr_iterdata\u001b[0m\u001b[0;34m]\u001b[0m\u001b[0;34m\u001b[0m\u001b[0m\n\u001b[0m",
      "\u001b[0;32m<ipython-input-224-c05fae10aa0a>\u001b[0m in \u001b[0;36m<listcomp>\u001b[0;34m(.0)\u001b[0m\n\u001b[0;32m----> 1\u001b[0;31m \u001b[0mnew_list\u001b[0m \u001b[0;34m=\u001b[0m \u001b[0;34m[\u001b[0m\u001b[0;34m(\u001b[0m\u001b[0ma\u001b[0m\u001b[0;34m,\u001b[0m\u001b[0mb\u001b[0m\u001b[0;34m,\u001b[0m\u001b[0mc\u001b[0m\u001b[0;34m,\u001b[0m\u001b[0md\u001b[0m\u001b[0;34m,\u001b[0m\u001b[0me\u001b[0m\u001b[0;34m,\u001b[0m\u001b[0mden_dict\u001b[0m\u001b[0;34m[\u001b[0m\u001b[0mf\u001b[0m\u001b[0;34m]\u001b[0m\u001b[0;34m)\u001b[0m \u001b[0;32mfor\u001b[0m \u001b[0;34m(\u001b[0m\u001b[0ma\u001b[0m\u001b[0;34m,\u001b[0m\u001b[0mb\u001b[0m\u001b[0;34m,\u001b[0m\u001b[0mc\u001b[0m\u001b[0;34m,\u001b[0m\u001b[0md\u001b[0m\u001b[0;34m,\u001b[0m\u001b[0me\u001b[0m\u001b[0;34m,\u001b[0m\u001b[0mf\u001b[0m\u001b[0;34m)\u001b[0m \u001b[0;32min\u001b[0m \u001b[0mlyr_iterdata\u001b[0m\u001b[0;34m]\u001b[0m\u001b[0;34m\u001b[0m\u001b[0m\n\u001b[0m",
      "\u001b[0;31mValueError\u001b[0m: not enough values to unpack (expected 6, got 5)"
     ]
    }
   ],
   "source": [
    "new_list = [(a,b,c,d,e,den_dict[f]) for (a,b,c,d,e,f) in lyr_iterdata]"
   ]
  },
  {
   "cell_type": "code",
   "execution_count": null,
   "metadata": {
    "collapsed": false
   },
   "outputs": [],
   "source": []
  },
  {
   "cell_type": "code",
   "execution_count": 230,
   "metadata": {
    "collapsed": false
   },
   "outputs": [],
   "source": [
    "fines_content = {\n",
    "('SW','SP','GW','GP'):0.045,\n",
    "('SW-SM','SW-SC','SP-SM','SP-SC'):0.115,\n",
    "('SW-GM','SW-GC','SP-GM','SP-GC'):0.115,\n",
    "('GW-SM','GW-SC','GP-SM','GP-SC'):0.115,\n",
    "('GW-GM','GW-GC','GP-GM','GP-GC'):0.115,\n",
    "('SM-SC','SC-SM'):0.25,\n",
    "('GM-GC','GC-GM'):0.25,\n",
    "('SM','GM'):0.3,\n",
    "('SC','GC'):0.2}"
   ]
  },
  {
   "cell_type": "code",
   "execution_count": 232,
   "metadata": {
    "collapsed": false
   },
   "outputs": [
    {
     "name": "stdout",
     "output_type": "stream",
     "text": [
      "[1920.0, 1920.0, 2000.0, 2000.0, 2000.0, 2000.0, 2000.0, 1880.0, 1880.0, 1900.0]\n"
     ]
    }
   ],
   "source": []
  },
  {
   "cell_type": "code",
   "execution_count": 227,
   "metadata": {
    "collapsed": false
   },
   "outputs": [
    {
     "name": "stdout",
     "output_type": "stream",
     "text": [
      "[(1.0, 0.0, 1.0, 'SP', 'Qva'), (1.0, 1.0, 4.0, 'SP-SM', 'Qva'), (1.0, 4.0, 7.0, 'ML', 'Qvlc'), (1.0, 7.0, 8.0, 'ML-CL', 'Qvlc'), (1.0, 8.0, 11.0, 'CL-CH', 'Qvlc'), (1.0, 11.0, 13.0, 'CH', 'Qvlc'), (1.0, 13.0, 19.0, 'SP', 'Qpfn'), (2.0, 0.0, 2.0, 'SP-SW', 'Qal'), (2.0, 2.0, 5.0, 'SP', 'Qal'), (2.0, 5.0, 8.0, 'CL-CH', 'Qls'), 1920.0, 1920.0, 2000.0, 2000.0, 2000.0, 2000.0, 2000.0, 1880.0, 1880.0, 1900.0]\n"
     ]
    }
   ],
   "source": [
    "from itertools import chain\n",
    "\n",
    "def get_density(lyr_data):\n",
    "    for g in lyr_data:\n",
    "        density_values = tuple([den_dict[g[4]] for g in lyr_data])\n",
    "    lyr_data += density_values\n",
    "    return lyr_data\n",
    "\n",
    "densities = get_density(lyr_iterdata)\n",
    "print(list(densities))"
   ]
  },
  {
   "cell_type": "code",
   "execution_count": 270,
   "metadata": {
    "collapsed": false
   },
   "outputs": [
    {
     "data": {
      "text/plain": [
       "Pandas(Index=4, EXPLOR_ID=1, UPPER_D=1, LOWER_D=4, USCS_CLASS='SP-SM', UID='Qva', DENSITY=0)"
      ]
     },
     "execution_count": 270,
     "metadata": {},
     "output_type": "execute_result"
    }
   ],
   "source": [
    "df2_slice[1]"
   ]
  },
  {
   "cell_type": "code",
   "execution_count": null,
   "metadata": {
    "collapsed": true
   },
   "outputs": [],
   "source": []
  }
 ],
 "metadata": {
  "kernelspec": {
   "display_name": "Python 3",
   "language": "python",
   "name": "python3"
  },
  "language_info": {
   "codemirror_mode": {
    "name": "ipython",
    "version": 3
   },
   "file_extension": ".py",
   "mimetype": "text/x-python",
   "name": "python",
   "nbconvert_exporter": "python",
   "pygments_lexer": "ipython3",
   "version": "3.6.0"
  }
 },
 "nbformat": 4,
 "nbformat_minor": 2
}
