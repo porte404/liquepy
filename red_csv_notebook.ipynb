{
 "cells": [
  {
   "cell_type": "code",
   "execution_count": 7,
   "metadata": {
    "collapsed": false,
    "deletable": true,
    "editable": true
   },
   "outputs": [],
   "source": [
    "\"\"\"Import dependencies\"\"\"\n",
    "import pandas as pd\n",
    "import math\n",
    "#import arcpy\n",
    "\n",
    "\"\"\"Specify paths\"\"\"\n",
    "input_folder_path = \"D:/D--Temp/Porter/\"\n",
    "input_layers_path = \"test_explor.csv\"\n",
    "input_path = \"\".join([input_folder_path, input_layers_path])\n",
    "#arcpy.env.workspace = input_path\n",
    "\n",
    "#\"\"\"Necessary format of column orders\"\"\"\n",
    "#------------------------#\n",
    "# INPUT LAYER FORMATTING #\n",
    "#------------------------#\n",
    "#\n",
    "#0: OBJECT_ID \n",
    "#1: EXPLOR_ID\n",
    "#2: UNIT_ID  \n",
    "#3: DEPTH\n",
    "#4: USCS_CLASS\n",
    "#5: WET_DRY\n",
    "#6: N_VAL"
   ]
  },
  {
   "cell_type": "code",
   "execution_count": 6,
   "metadata": {
    "collapsed": false,
    "deletable": true,
    "editable": true
   },
   "outputs": [
    {
     "name": "stdout",
     "output_type": "stream",
     "text": [
      "Maximum EXPLOR_ID: 2\n",
      "1\n",
      "[1, 2]\n"
     ]
    }
   ],
   "source": [
    "\"\"\"Read CSV File\"\"\"\n",
    "df = pd.read_csv(input_path, index_col=['OBJECT_ID'])\n",
    "explorid_values = df[[0]]\n",
    "\n",
    "\"\"\"Get list of layers within specified exploration\"\"\"\n",
    "#check_explornum = 2\n",
    "#dt1 = df.iloc[df.index.get_level_values(1) == check_explornum]\n",
    "\n",
    "\"\"\"Get max exploration value and print it\"\"\"\n",
    "max_eid = int(explorid_values.max(axis=0))\n",
    "min_eid = int(explorid_values.min(axis=0))\n",
    "print(\"Maximum EXPLOR_ID: {}\".format(max_eid))\n",
    "\n",
    "\"\"\"Creates list of tuples from df\"\"\"\n",
    "def slice_dice(df):\n",
    "    explorid_list = []\n",
    "    for r in df.itertuples():\n",
    "        explorid_list.append(r)\n",
    "    return explorid_list\n",
    "            \n",
    "explorid_list = slice_dice(df)\n",
    "print(explorid_list[0][1])\n",
    "\n",
    "\"\"\"Set additional inputs to pass to later classes or functions\"\"\"\n",
    "explorid_range = range(1,int(max_eid))\n",
    "table_length = int(len(explorid_list))\n",
    "\n",
    "\"\"\"Build list for iteration\"\"\"\n",
    "ls_tst = []\n",
    "for itup in explorid_list:\n",
    "    ls_tst.append(itup[1])\n",
    "new_ls = list(set(ls_tst))\n",
    "print(new_ls)\n",
    "\n",
    "#\"\"\"Iteration loop ex\"\"\"\n",
    "#counter = 0\n",
    "#while counter < table_length:\n",
    "#    print explorid_list[counter][1]\n",
    "#    counter += 1\n",
    "#print(counter)\n"
   ]
  },
  {
   "cell_type": "code",
   "execution_count": 3,
   "metadata": {
    "collapsed": false,
    "deletable": true,
    "editable": true
   },
   "outputs": [
    {
     "name": "stdout",
     "output_type": "stream",
     "text": [
      "[(1, 1, 3.4641016151377544, nan), (2, 1, 4.242640687119285, nan), (3, 1, 4.47213595499958, nan), (4, 1, 3.1622776601683795, nan), (5, 1, 5.916079783099616, nan), (6, 1, 5.477225575051661, nan), (7, 1, 5.0990195135927845, nan), (8, 1, 7.416198487095663, nan), (9, 1, 6.708203932499369, nan), (10, 1, 6.782329983125268, nan), (11, 1, 6.708203932499369, nan), (12, 1, 7.745966692414834, nan), (13, 1, 7.810249675906654, nan), (14, 1, 7.416198487095663, nan), (15, 1, 6.708203932499369, nan), (16, 1, 7.615773105863909, nan), (17, 1, 7.0710678118654755, nan), (18, 1, 7.0710678118654755, nan), (19, 1, 7.14142842854285, nan), (20, 2, 3.605551275463989, nan), (21, 2, 2.8284271247461903, nan), (22, 2, 4.358898943540674, nan), (23, 2, 5.0, nan), (24, 2, 5.477225575051661, nan), (25, 2, 7.0710678118654755, nan), (26, 2, 5.830951894845301, nan), (27, 2, 6.708203932499369, nan)]\n",
      "\n",
      "\n",
      "Last 3 lines:\n",
      "           EXPLOR_ID  UNIT_ID  DEPTH USCS_CLASS WET_DRY  N_VAL  CORR_N\n",
      "OBJECT_ID                                                             \n",
      "25                 2      NaN      6      GP-GC       W     50     NaN\n",
      "26                 2      NaN      7        CLg       W     34     NaN\n",
      "27                 2      NaN      8      CL-CH       W     45     NaN\n"
     ]
    }
   ],
   "source": [
    "def test_func(imported_data):\n",
    "    layer_data = []\n",
    "    for itup in imported_data:\n",
    "        base_tuple = itup[:2] \n",
    "        base_tuple += tuple([math.sqrt(itup[-2]), itup[-1]])\n",
    "        layer_data.append(base_tuple)\n",
    "    return layer_data\n",
    "\n",
    "xc = test_func(explorid_list)\n",
    "print(xc)\n",
    "\n",
    "dt3 = df.tail(3)\n",
    "print(\"\\n\\nLast 3 lines:\")\n",
    "print(dt3)\n"
   ]
  },
  {
   "cell_type": "code",
   "execution_count": 4,
   "metadata": {
    "collapsed": true,
    "deletable": true,
    "editable": true
   },
   "outputs": [],
   "source": [
    "def build_tuple(df):\n",
    "        for row in df.itertuples():\n",
    "            pass"
   ]
  },
  {
   "cell_type": "code",
   "execution_count": 5,
   "metadata": {
    "collapsed": true,
    "deletable": true,
    "editable": true
   },
   "outputs": [],
   "source": [
    "class borehole():\n",
    "     def __init__(self, UNIT_ID, DEPTH, USCS_CLASS, WET_DRY, N_VAL):\n",
    "         pass\n",
    "     def __str__(self):\n",
    "         return \"Exploration {} at {}' depth.\".format(EXPLOR_ID=1,DEPTH=15)\n",
    "     def __repr__(self):\n",
    "         return \"{}()\".format(self.__class__.__name__)\n",
    "     \n",
    "     \n",
    "class liquefied(borehole):\n",
    "    pass\n"
   ]
  },
  {
   "cell_type": "code",
   "execution_count": 6,
   "metadata": {
    "collapsed": true,
    "deletable": true,
    "editable": true
   },
   "outputs": [],
   "source": [
    "fines_content = {\n",
    "('SW','SP','GW','GP'):0.045,\n",
    "('SW-SM','SW-SC','SP-SM','SP-SC'):0.115,\n",
    "('SW-GM','SW-GC','SP-GM','SP-GC'):0.115,\n",
    "('GW-SM','GW-SC','GP-SM','GP-SC'):0.115,\n",
    "('GW-GM','GW-GC','GP-GM','GP-GC'):0.115,\n",
    "('SM-SC','SC-SM'):0.25,\n",
    "('GM-GC','GC-GM'):0.25,\n",
    "('SM','GM'):0.3,\n",
    "('SC','GC'):0.2,\n",
    "\n",
    "('SW','SP','GW','GP'):0.045,\n",
    "('SW-SM','SW-SC','SP-SM','SP-SC'):0.115,\n",
    "('SW-GM','SW-GC','SP-GM','SP-GC'):0.115,\n",
    "('GW-SM','GW-SC','GP-SM','GP-SC'):0.115,\n",
    "('GW-GM','GW-GC','GP-GM','GP-GC'):0.115,\n",
    "('SM-SC','SC-SM'):0.25,\n",
    "('GM-GC','GC-GM'):0.25,\n",
    "('SM','GM'):0.3,\n",
    "('SC','GC'):0.2,\n",
    "}\n",
    "\n",
    "density_values = {\n",
    "('SW','SP','GW','GP'):0.045,\n",
    "('SW-SM','SW-SC','SP-SM','SP-SC'):0.115,\n",
    "('SW-GM','SW-GC','SP-GM','SP-GC'):0.115,\n",
    "('GW-SM','GW-SC','GP-SM','GP-SC'):0.115,\n",
    "('GW-GM','GW-GC','GP-GM','GP-GC'):0.115,\n",
    "('SM-SC','SC-SM'):0.25,\n",
    "('GM-GC','GC-GM'):0.25,\n",
    "('SM','GM'):0.3,\n",
    "('SC','GC'):0.2,\n",
    "}"
   ]
  }
 ],
 "metadata": {
  "kernelspec": {
   "display_name": "Python 2",
   "language": "python",
   "name": "python2"
  },
  "language_info": {
   "codemirror_mode": {
    "name": "ipython",
    "version": 2
   },
   "file_extension": ".py",
   "mimetype": "text/x-python",
   "name": "python",
   "nbconvert_exporter": "python",
   "pygments_lexer": "ipython2",
   "version": "2.7.6"
  }
 },
 "nbformat": 4,
 "nbformat_minor": 0
}
